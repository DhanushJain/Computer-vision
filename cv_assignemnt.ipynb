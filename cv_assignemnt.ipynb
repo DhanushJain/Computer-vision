{
  "nbformat": 4,
  "nbformat_minor": 0,
  "metadata": {
    "colab": {
      "name": "cv assignemnt",
      "provenance": [],
      "collapsed_sections": [],
      "toc_visible": true
    },
    "kernelspec": {
      "name": "python3",
      "display_name": "Python 3"
    }
  },
  "cells": [
    {
      "cell_type": "markdown",
      "metadata": {
        "id": "Q9PcoBT30hRM"
      },
      "source": [
        "##ADDING THE NECESSARY MODUELS"
      ]
    },
    {
      "cell_type": "code",
      "metadata": {
        "id": "bAc6GKEz79-A",
        "colab": {
          "base_uri": "https://localhost:8080/"
        },
        "outputId": "fe9736aa-9167-42c0-8a9d-9182f856da68"
      },
      "source": [
        "import numpy as np # this is imported in order to function with arrays and matrices\r\n",
        "from matplotlib import pyplot as plt #this is used for ploting and displaying the images \r\n",
        "import cv2# the open cv module is used to perfrom the image processing techniques and functoins.\r\n",
        "import os \r\n",
        "image=cv2.imread('/content/00BE715F-12EF-4729-B491-28DB5BFCF72C.png')\r\n",
        "image2=cv2.cvtColor(image, cv2.COLOR_BGR2RGB)\r\n",
        "scale_percent = 400\r\n",
        "width = int(image2.shape[1] * scale_percent / 100)\r\n",
        "height = int(image2.shape[0] * scale_percent / 100)\r\n",
        "dim = (width, height)\r\n",
        "resized = cv2.resize(image2, dim, interpolation = cv2.INTER_CUBIC)\r\n",
        "cv2.imwrite('/content/logo.png',resized)"
      ],
      "execution_count": null,
      "outputs": [
        {
          "output_type": "execute_result",
          "data": {
            "text/plain": [
              "True"
            ]
          },
          "metadata": {
            "tags": []
          },
          "execution_count": 9
        }
      ]
    },
    {
      "cell_type": "code",
      "metadata": {
        "colab": {
          "base_uri": "https://localhost:8080/",
          "height": 229
        },
        "id": "E7GEGMyt43an",
        "outputId": "ba187d01-61c1-4e7e-c433-c19403521181"
      },
      "source": [
        "os.chdir(directory)    \r\n",
        "print(\"Before saving image:\")   \r\n",
        "print(os.listdir(directory))   \r\n",
        "filename = 'savedImage.jpg'\r\n",
        "cv2.imwrite(filename, img)   \r\n",
        "print(\"After saving image:\")   \r\n",
        "print(os.listdir(directory)) \r\n",
        "print('Successfully saved') "
      ],
      "execution_count": null,
      "outputs": [
        {
          "output_type": "error",
          "ename": "NameError",
          "evalue": "ignored",
          "traceback": [
            "\u001b[0;31m---------------------------------------------------------------------------\u001b[0m",
            "\u001b[0;31mNameError\u001b[0m                                 Traceback (most recent call last)",
            "\u001b[0;32m<ipython-input-7-be9f6c45803c>\u001b[0m in \u001b[0;36m<module>\u001b[0;34m()\u001b[0m\n\u001b[0;32m----> 1\u001b[0;31m \u001b[0mos\u001b[0m\u001b[0;34m.\u001b[0m\u001b[0mchdir\u001b[0m\u001b[0;34m(\u001b[0m\u001b[0mdirectory\u001b[0m\u001b[0;34m)\u001b[0m\u001b[0;34m\u001b[0m\u001b[0;34m\u001b[0m\u001b[0m\n\u001b[0m\u001b[1;32m      2\u001b[0m \u001b[0;34m\u001b[0m\u001b[0m\n\u001b[1;32m      3\u001b[0m \u001b[0;31m# List files and directories\u001b[0m\u001b[0;34m\u001b[0m\u001b[0;34m\u001b[0m\u001b[0;34m\u001b[0m\u001b[0m\n\u001b[1;32m      4\u001b[0m \u001b[0;31m# in 'C:/Users/Rajnish/Desktop/GeeksforGeeks'\u001b[0m\u001b[0;34m\u001b[0m\u001b[0;34m\u001b[0m\u001b[0;34m\u001b[0m\u001b[0m\n\u001b[1;32m      5\u001b[0m \u001b[0mprint\u001b[0m\u001b[0;34m(\u001b[0m\u001b[0;34m\"Before saving image:\"\u001b[0m\u001b[0;34m)\u001b[0m\u001b[0;34m\u001b[0m\u001b[0;34m\u001b[0m\u001b[0m\n",
            "\u001b[0;31mNameError\u001b[0m: name 'directory' is not defined"
          ]
        }
      ]
    },
    {
      "cell_type": "code",
      "metadata": {
        "id": "CQ0xs_g8Xdy3"
      },
      "source": [
        "temp = resized.copy()\r\n",
        "xp = [0, 54, 128, 220, 255]\r\n",
        "fp = [0, 46, 108, 220, 255]\r\n",
        "x = np.arange(256)\r\n",
        "table = np.interp(x, xp, fp).astype('uint8')\r\n",
        "temp = cv2.LUT(temp, table)\r\n",
        "preprocessed = cv2.LUT(temp, table)\r\n"
      ],
      "execution_count": null,
      "outputs": []
    },
    {
      "cell_type": "code",
      "metadata": {
        "id": "iQcr6oGy9QWf"
      },
      "source": [
        "plt.figure(figsize=(30,30))\r\n",
        "plt.subplot(1,3,1)\r\n",
        "plt.title('Orignal Image')\r\n",
        "plt.imshow(image2)\r\n",
        "plt.subplot(1,3,2)\r\n",
        "plt.imshow(resized)\r\n",
        "plt.title('Upsacled Image')\r\n",
        "plt.subplot(1,3,3)\r\n",
        "plt.imshow(preprocessed)\r\n",
        "plt.title('Contrast Enhanced Image')"
      ],
      "execution_count": null,
      "outputs": []
    },
    {
      "cell_type": "markdown",
      "metadata": {
        "id": "pW8FYEhV3lKw"
      },
      "source": [
        "####SEGMENTATION"
      ]
    },
    {
      "cell_type": "code",
      "metadata": {
        "id": "svYqb937_A_u"
      },
      "source": [
        "convert = cv2.cvtColor(image, cv2.COLOR_BGR2GRAY)\r\n",
        "blur=cv2.blur(convert,(5,5),5)\r\n",
        "ret,thresh1 = cv2.threshold(blur,0,255,cv2.THRESH_BINARY_INV+cv2.THRESH_OTSU)\r\n",
        "plt.figure(figsize=(30,30))\r\n",
        "plt.subplot(1,4,1)\r\n",
        "plt.title('ORGINAL IMAGE'),plt.imshow(image2,cmap='Accent')\r\n",
        "plt.subplot(1,4,2)\r\n",
        "plt.title('PREPROCESSED IMAGE'),plt.imshow(preprocessed)\r\n",
        "plt.subplot(1,4,3)\r\n",
        "plt.title('GRAY IMAGE'),plt.imshow(convert,cmap='gray')\r\n",
        "plt.subplot(1,4,4)\r\n",
        "plt.title('SEGMENTED IMAGE'),plt.imshow(thresh1,cmap='gray')\r\n"
      ],
      "execution_count": null,
      "outputs": []
    },
    {
      "cell_type": "code",
      "metadata": {
        "id": "ZxlHy4otFwPk"
      },
      "source": [
        "plt.figure(figsize=(30,30))\r\n",
        "plt.subplot(1,5,1)\r\n",
        "plt.title('ORGINAL IMAGE'),plt.imshow(image2,cmap='Accent')\r\n",
        "plt.subplot(1,5,2)\r\n",
        "plt.title('RESIZED IMAGE'),plt.imshow(resized)\r\n",
        "plt.subplot(1,5,3)\r\n",
        "plt.title('PREPROCESSED IMAGE'),plt.imshow(preprocessed)\r\n",
        "plt.subplot(1,5,4)\r\n",
        "plt.title('GRAY IMAGE'),plt.imshow(convert,cmap='gray')\r\n",
        "plt.subplot(1,5,5)\r\n",
        "plt.title('SEGMENTED IMAGE'),plt.imshow(thresh1,cmap='gray')"
      ],
      "execution_count": null,
      "outputs": []
    },
    {
      "cell_type": "code",
      "metadata": {
        "id": "fBFoevDbXpFg"
      },
      "source": [
        "plt.figure(figsize=(35,35))\r\n",
        "plt.subplot(1,3,1)\r\n",
        "plt.title('ORGINAL IMAGE'),plt.imshow(image2)\r\n",
        "plt.subplot(1,3,2)\r\n",
        "plt.title('RESIZED  IMAGE'),plt.imshow(resized)\r\n",
        "plt.subplot(1,3,3)\r\n",
        "plt.title('ENHANCED IMAGE'),plt.imshow(preprocessed)\r\n",
        "plt.figure(figsize=(35,35))\r\n",
        "plt.subplot(2,3,1)\r\n",
        "plt.title('HSV IMAGE'),plt.imshow(hsv)\r\n",
        "plt.subplot(2,3,2)\r\n",
        "plt.title('SEGMENTATION MASK'),plt.imshow(mask,cmap='gray')\r\n",
        "plt.subplot(2,3,3)\r\n",
        "plt.title('FINAL SEGMENTED IMAGE'),plt.imshow(ret)\r\n",
        "\r\n",
        "plt.subplot(1,5,4)\r\n",
        "plt.title('SEGMENTATION MASK'),plt.imshow(mask,cmap='gray')\r\n",
        "plt.subplot(1,5,5)\r\n",
        "plt.title('FINAL SEGMENTED IMAGE'),plt.imshow(ret)"
      ],
      "execution_count": null,
      "outputs": []
    },
    {
      "cell_type": "code",
      "metadata": {
        "id": "CsZFZWMadbuK"
      },
      "source": [
        ""
      ],
      "execution_count": null,
      "outputs": []
    }
  ]
}